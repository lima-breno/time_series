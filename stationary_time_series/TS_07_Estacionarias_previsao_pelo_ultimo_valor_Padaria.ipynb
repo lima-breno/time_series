{
  "cells": [
    {
      "cell_type": "markdown",
      "metadata": {
        "id": "view-in-github",
        "colab_type": "text"
      },
      "source": [
        "<a href=\"https://colab.research.google.com/github/lima-breno/time_series/blob/main/TS_07_Estacionarias_previsao_pelo_ultimo_valor_Padaria.ipynb\" target=\"_parent\"><img src=\"https://colab.research.google.com/assets/colab-badge.svg\" alt=\"Open In Colab\"/></a>"
      ]
    },
    {
      "cell_type": "markdown",
      "id": "5487a3ea-2540-4413-8230-3402a0ee6352",
      "metadata": {
        "id": "5487a3ea-2540-4413-8230-3402a0ee6352"
      },
      "source": [
        "## Séries temporais estacionárias: previsão pelo último valor\n",
        "\n",
        "Este notebook busca uma série temporal de um arquivo escolhido e faz algumas análises preliminares, bem como a aplicação do modelo de prevsião pelo último valor conhecido da série.\n",
        "\n",
        "Data da última atualização: 17/02/2025"
      ]
    },
    {
      "cell_type": "markdown",
      "id": "ce31a877-48c5-4822-87c2-79200fe4860e",
      "metadata": {
        "id": "ce31a877-48c5-4822-87c2-79200fe4860e"
      },
      "source": [
        "#### Preliminares"
      ]
    },
    {
      "cell_type": "code",
      "execution_count": null,
      "id": "warming-advance",
      "metadata": {
        "id": "warming-advance"
      },
      "outputs": [],
      "source": [
        "# Carregamento das bibliotecas\n",
        "\n",
        "import matplotlib.pyplot as plt\n",
        "import numpy as np\n",
        "import pandas as pd\n",
        "import datetime as dt\n",
        "\n",
        "from statsmodels.tsa.seasonal import seasonal_decompose\n",
        "from statsmodels.tsa.stattools import adfuller\n",
        "from statsmodels.graphics.tsaplots import plot_acf, plot_pacf"
      ]
    },
    {
      "cell_type": "code",
      "execution_count": null,
      "id": "4b705c86-2364-4793-824f-6b8ea4100642",
      "metadata": {
        "id": "4b705c86-2364-4793-824f-6b8ea4100642"
      },
      "outputs": [],
      "source": [
        "# Ajuste das preferências gráficas\n",
        "\n",
        "plt.style.use('fivethirtyeight')\n",
        "plt.rcParams['lines.linewidth'] = 1.5\n",
        "dark_style = {\n",
        "    'figure.facecolor': '#FFFFFF',    # Cor da moldura\n",
        "    'axes.facecolor': '#FFFFFF',      # Cor do fundo\n",
        "    'savefig.facecolor':'#000000',\n",
        "    'axes.grid': True,\n",
        "    'axes.grid.which': 'both',\n",
        "    'axes.spines.left': False,\n",
        "    'axes.spines.right': False,\n",
        "    'axes.spines.top': False,\n",
        "    'axes.spines.bottom': True,\n",
        "    'grid.color': '#888888',\n",
        "    'grid.linewidth': '0.1',\n",
        "    'text.color': '#000000',\n",
        "    'axes.labelcolor': '#000000',\n",
        "    'xtick.color': '#000000',\n",
        "    'ytick.color': '#000000',\n",
        "    'font.size': 12 }\n",
        "plt.rcParams.update(dark_style)\n",
        "\n",
        "from pylab import rcParams\n",
        "rcParams['figure.figsize'] = (21,13)"
      ]
    },
    {
      "cell_type": "markdown",
      "id": "7af9a5f7-18bd-4c93-abba-a3840f56191e",
      "metadata": {
        "id": "7af9a5f7-18bd-4c93-abba-a3840f56191e"
      },
      "source": [
        "#### Carregamento da Série Temporal"
      ]
    },
    {
      "cell_type": "code",
      "execution_count": null,
      "id": "7976e3b6-7cc7-4723-af93-e372e1e4239d",
      "metadata": {
        "id": "7976e3b6-7cc7-4723-af93-e372e1e4239d"
      },
      "outputs": [],
      "source": [
        "# Leitura do arquivo de dados\n",
        "\n",
        "MinhaSerieTemporal = pd.read_csv('HistoricoVendasPadaria.csv', index_col = 0)"
      ]
    },
    {
      "cell_type": "code",
      "execution_count": null,
      "id": "b28628c8-3adf-4cfe-b455-53740fb1d0ea",
      "metadata": {
        "id": "b28628c8-3adf-4cfe-b455-53740fb1d0ea"
      },
      "outputs": [],
      "source": [
        "# Exibição do DataFrame\n",
        "\n",
        "MinhaSerieTemporal"
      ]
    },
    {
      "cell_type": "code",
      "execution_count": null,
      "id": "80d1bd9c-3f8c-4b76-8905-c2a6637f7077",
      "metadata": {
        "id": "80d1bd9c-3f8c-4b76-8905-c2a6637f7077"
      },
      "outputs": [],
      "source": [
        "# Ajuste do índice para formato DateTime\n",
        "\n",
        "MinhaSerieTemporal.index = pd.to_datetime(MinhaSerieTemporal.index)"
      ]
    },
    {
      "cell_type": "code",
      "execution_count": null,
      "id": "furnished-italian",
      "metadata": {
        "id": "furnished-italian"
      },
      "outputs": [],
      "source": [
        "# Gráfico\n",
        "MinhaSerieTemporal.plot()"
      ]
    },
    {
      "cell_type": "markdown",
      "id": "e1b5a9e3-d44b-4741-a54f-0c110a2b1609",
      "metadata": {
        "id": "e1b5a9e3-d44b-4741-a54f-0c110a2b1609"
      },
      "source": [
        "#### Decomposição da Série"
      ]
    },
    {
      "cell_type": "code",
      "execution_count": null,
      "id": "c26eb088-b67f-4b6f-94d5-3e0103f3f2af",
      "metadata": {
        "id": "c26eb088-b67f-4b6f-94d5-3e0103f3f2af"
      },
      "outputs": [],
      "source": [
        "# Decomposição aditiva da série temporal\n",
        "\n",
        "PeriodoSazonal = 7     # Sazonalidade semanal\n",
        "\n",
        "Decomposicao = seasonal_decompose(MinhaSerieTemporal[MinhaSerieTemporal.columns[0]], model = \"add\", period = PeriodoSazonal)"
      ]
    },
    {
      "cell_type": "code",
      "execution_count": null,
      "id": "8aaefa3c-40ad-4e7c-a3b3-8030260a1db4",
      "metadata": {
        "id": "8aaefa3c-40ad-4e7c-a3b3-8030260a1db4"
      },
      "outputs": [],
      "source": [
        "Decomposicao.plot();"
      ]
    },
    {
      "cell_type": "markdown",
      "id": "82bb552d-aa2a-4ebe-8801-83e78916b578",
      "metadata": {
        "id": "82bb552d-aa2a-4ebe-8801-83e78916b578"
      },
      "source": [
        "#### Teste ADF"
      ]
    },
    {
      "cell_type": "code",
      "execution_count": null,
      "id": "pharmaceutical-brush",
      "metadata": {
        "id": "pharmaceutical-brush"
      },
      "outputs": [],
      "source": [
        "# Teste ADF para estacionariedade\n",
        "\n",
        "ad_fuller_result = adfuller(MinhaSerieTemporal[MinhaSerieTemporal.columns[0]])\n",
        "\n",
        "print(f'Estatística ADF: {ad_fuller_result[0]:2.4f}')\n",
        "print(f'p-value:         {ad_fuller_result[1]*100: 2.4f} %')"
      ]
    },
    {
      "cell_type": "code",
      "execution_count": null,
      "id": "b4fb8866-3019-46a2-8e71-44a155349abf",
      "metadata": {
        "id": "b4fb8866-3019-46a2-8e71-44a155349abf"
      },
      "outputs": [],
      "source": [
        "# Teste ADF para estacionariedade para a série das diferenças finitas de ordem escolhida\n",
        "\n",
        "OrdemDif = 1\n",
        "\n",
        "ad_fuller_result = adfuller(np.diff(MinhaSerieTemporal[MinhaSerieTemporal.columns[0]], n = OrdemDif))\n",
        "\n",
        "print(f'Estatística ADF: {ad_fuller_result[0]:2.4f}')\n",
        "print(f'p-value:         {ad_fuller_result[1]*100: 2.4f} %')"
      ]
    },
    {
      "cell_type": "markdown",
      "id": "be33161b-d041-418d-a862-712e04dfaf87",
      "metadata": {
        "id": "be33161b-d041-418d-a862-712e04dfaf87"
      },
      "source": [
        "#### Funcão de autocorrelação"
      ]
    },
    {
      "cell_type": "code",
      "execution_count": null,
      "id": "0d5e3d5b-9a36-40f7-a377-1e716fa7a966",
      "metadata": {
        "id": "0d5e3d5b-9a36-40f7-a377-1e716fa7a966"
      },
      "outputs": [],
      "source": [
        "# Função de correlação para série temporal\n",
        "\n",
        "plot_acf(np.diff(MinhaSerieTemporal[MinhaSerieTemporal.columns[0]], n = OrdemDif),  lags=28, title = \"Autocorrelação\", color=\"red\");"
      ]
    },
    {
      "cell_type": "code",
      "execution_count": null,
      "id": "3b4e8bf5-c209-454c-b710-62d92ee5afac",
      "metadata": {
        "id": "3b4e8bf5-c209-454c-b710-62d92ee5afac"
      },
      "outputs": [],
      "source": [
        "# Função de correlação para série das diferenças finitas da ordem escolhida acima\n",
        "\n",
        "plot_acf(np.diff(MinhaSerieTemporal[MinhaSerieTemporal.columns[0]], n = OrdemDif),  lags=28, title = \"Autocorrelação\", color=\"red\");"
      ]
    },
    {
      "cell_type": "markdown",
      "id": "d30fa7c6-1c4d-470a-b2ca-816d698859ad",
      "metadata": {
        "id": "d30fa7c6-1c4d-470a-b2ca-816d698859ad"
      },
      "source": [
        "#### Separação das bases de treino e teste"
      ]
    },
    {
      "cell_type": "code",
      "execution_count": null,
      "id": "88748711-ba9d-4a33-9039-a95422f881fe",
      "metadata": {
        "id": "88748711-ba9d-4a33-9039-a95422f881fe"
      },
      "outputs": [],
      "source": [
        "# Definição da proporção de dados para compor a base de teste\n",
        "\n",
        "PercentualTeste = 10"
      ]
    },
    {
      "cell_type": "code",
      "execution_count": null,
      "id": "d559b6fa-af04-4b53-a601-ec7aa974299d",
      "metadata": {
        "id": "d559b6fa-af04-4b53-a601-ec7aa974299d"
      },
      "outputs": [],
      "source": [
        "# Cálculo do tamanho do período de testes\n",
        "PeriodoTeste = PercentualTeste * len(MinhaSerieTemporal) // 100\n",
        "\n",
        "# Definição do DataFrame de treino\n",
        "TreinoDF = pd.DataFrame(index = MinhaSerieTemporal[:-PeriodoTeste].index)\n",
        "TreinoDF['Treino'] = MinhaSerieTemporal[:-PeriodoTeste][MinhaSerieTemporal.columns[0]]\n",
        "\n",
        "# Definição do DataFrame de teste\n",
        "TesteDF  = pd.DataFrame(index = MinhaSerieTemporal[-PeriodoTeste:].index)\n",
        "TesteDF['Teste'] = MinhaSerieTemporal[-PeriodoTeste:][MinhaSerieTemporal.columns[0]]"
      ]
    },
    {
      "cell_type": "code",
      "execution_count": null,
      "id": "a090919a-765c-4afb-b06f-d20791af4e11",
      "metadata": {
        "id": "a090919a-765c-4afb-b06f-d20791af4e11"
      },
      "outputs": [],
      "source": [
        "# Exibe a série temporal, com a separação da base de dados\n",
        "\n",
        "pd.concat([TreinoDF,TesteDF], axis = 1).plot()"
      ]
    },
    {
      "cell_type": "markdown",
      "id": "7167c66e-5fef-4a2d-8f26-fcd863492113",
      "metadata": {
        "id": "7167c66e-5fef-4a2d-8f26-fcd863492113"
      },
      "source": [
        "#### Previsão pelo último valor"
      ]
    },
    {
      "cell_type": "code",
      "execution_count": null,
      "id": "707d63b4-32dc-4a75-afc6-3d688e6c8287",
      "metadata": {
        "id": "707d63b4-32dc-4a75-afc6-3d688e6c8287"
      },
      "outputs": [],
      "source": [
        "# Cálculo do último valor da série temporal na base de treino\n",
        "\n",
        "UltimoValor = TreinoDF['Treino'].values[-1]"
      ]
    },
    {
      "cell_type": "code",
      "execution_count": null,
      "id": "38cfb8df-596b-41f4-ba04-8c07e59cd05c",
      "metadata": {
        "id": "38cfb8df-596b-41f4-ba04-8c07e59cd05c"
      },
      "outputs": [],
      "source": [
        "# Montagem do DataFrame de previsão\n",
        "\n",
        "PrevisoesDF  = pd.DataFrame(index = MinhaSerieTemporal[-PeriodoTeste:].index)\n",
        "PrevisoesDF['Previsão'] = UltimoValor * np.ones(len(PrevisoesDF.index))"
      ]
    },
    {
      "cell_type": "code",
      "execution_count": null,
      "id": "5ff5d6e4",
      "metadata": {
        "id": "5ff5d6e4"
      },
      "outputs": [],
      "source": [
        "# Exibe a série temporal, com a separação da base de dados\n",
        "\n",
        "pd.concat([MinhaSerieTemporal,PrevisoesDF], axis = 1).plot()"
      ]
    },
    {
      "cell_type": "markdown",
      "id": "8f8c3b57-f82a-408a-b7fa-452d475114ff",
      "metadata": {
        "id": "8f8c3b57-f82a-408a-b7fa-452d475114ff"
      },
      "source": [
        "#### Medidas de erro"
      ]
    },
    {
      "cell_type": "code",
      "execution_count": null,
      "id": "5ebb2a1c-0ff1-41a2-ba36-4b22248a2d61",
      "metadata": {
        "id": "5ebb2a1c-0ff1-41a2-ba36-4b22248a2d61"
      },
      "outputs": [],
      "source": [
        "# Cáluclo do vetor de erros\n",
        "\n",
        "Erros = PrevisoesDF['Previsão'].values - TesteDF['Teste'].values\n",
        "Erros"
      ]
    },
    {
      "cell_type": "code",
      "execution_count": null,
      "id": "7686ad24-fd15-4194-b425-e199d73c518c",
      "metadata": {
        "id": "7686ad24-fd15-4194-b425-e199d73c518c"
      },
      "outputs": [],
      "source": [
        "# Cálculo do erro médio\n",
        "ErroMedio = Erros.mean()"
      ]
    },
    {
      "cell_type": "code",
      "execution_count": null,
      "id": "af907061",
      "metadata": {
        "id": "af907061"
      },
      "outputs": [],
      "source": [
        "# Cálculo do erro absoluto médio\n",
        "MAE = np.abs(Erros).mean()"
      ]
    },
    {
      "cell_type": "code",
      "execution_count": null,
      "id": "00269eda",
      "metadata": {
        "id": "00269eda"
      },
      "outputs": [],
      "source": [
        "# Cálculo da raiz do erro quadrático médio\n",
        "RMSE = np.sqrt((Erros**2).mean())"
      ]
    },
    {
      "cell_type": "code",
      "execution_count": null,
      "id": "7de9db0a-f902-4f86-b11b-9bf96003b585",
      "metadata": {
        "id": "7de9db0a-f902-4f86-b11b-9bf96003b585"
      },
      "outputs": [],
      "source": [
        "# Cálculo dos erros relativos\n",
        "ErrosRelativos = Erros / TesteDF['Teste'].values\n",
        "ErrosRelativos"
      ]
    },
    {
      "cell_type": "code",
      "execution_count": null,
      "id": "a2f892f6",
      "metadata": {
        "id": "a2f892f6"
      },
      "outputs": [],
      "source": [
        "# Cálculo do erro percentual absoluto médio\n",
        "MAPE = np.abs(ErrosRelativos).mean()"
      ]
    },
    {
      "cell_type": "code",
      "execution_count": null,
      "id": "856428bd-176c-47fd-abcc-98734099534d",
      "metadata": {
        "id": "856428bd-176c-47fd-abcc-98734099534d"
      },
      "outputs": [],
      "source": [
        "print(f'Medidas de erro de previsão')\n",
        "print()\n",
        "print(f'Modelo de previsão: último valor conhecido')\n",
        "print()\n",
        "print(f'Erro médio: {ErroMedio: 2.1f}')\n",
        "print(f'MAE:        {MAE: 2.1f}')\n",
        "print(f'RMSE:       {RMSE: 2.1f}')\n",
        "print(f'MAPE:       {MAPE*100: 2.1f} %')"
      ]
    }
  ],
  "metadata": {
    "kernelspec": {
      "display_name": "Python 3 (ipykernel)",
      "language": "python",
      "name": "python3"
    },
    "language_info": {
      "codemirror_mode": {
        "name": "ipython",
        "version": 3
      },
      "file_extension": ".py",
      "mimetype": "text/x-python",
      "name": "python",
      "nbconvert_exporter": "python",
      "pygments_lexer": "ipython3",
      "version": "3.12.3"
    },
    "colab": {
      "provenance": [],
      "include_colab_link": true
    }
  },
  "nbformat": 4,
  "nbformat_minor": 5
}
